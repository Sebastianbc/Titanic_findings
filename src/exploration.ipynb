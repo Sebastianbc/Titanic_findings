{
 "cells": [
  {
   "cell_type": "code",
   "execution_count": 4,
   "metadata": {},
   "outputs": [],
   "source": [
    "import pandas as pd\n",
    "import numpy as np\n",
    "import matplotlib.pyplot as plt"
   ]
  },
  {
   "cell_type": "code",
   "execution_count": 5,
   "metadata": {},
   "outputs": [],
   "source": [
    "df = pd.read_csv('../dataset/train.csv')"
   ]
  },
  {
   "cell_type": "code",
   "execution_count": 6,
   "metadata": {},
   "outputs": [
    {
     "data": {
      "text/plain": [
       "'Second'"
      ]
     },
     "execution_count": 6,
     "metadata": {},
     "output_type": "execute_result"
    }
   ],
   "source": [
    "# Define function to map passenger classes\n",
    "def passenger_class_map(passenger_class: int) -> str:\n",
    "    '''Receive an integer to map the passenger class'''\n",
    "    try:\n",
    "        int_Pclass = int(passenger_class)\n",
    "        if int_Pclass > 3 or int_Pclass < 1:\n",
    "            raise ValueError\n",
    "    except TypeError as e:\n",
    "        print('The passenger class received is not a valid integer')\n",
    "        raise TypeError\n",
    "    except ValueError as e:\n",
    "        print('The passenger class received is not a valid integer within the expected range')\n",
    "        raise ValueError\n",
    "    except Exception as e:\n",
    "        print(f'Exception with the passenger class received: {passenger_class}')\n",
    "        raise Exception\n",
    "    else:\n",
    "        if int_Pclass == 1: p_class = 'First'\n",
    "        elif int_Pclass == 2: p_class = 'Second'\n",
    "        elif int_Pclass == 3: p_class = 'Third'\n",
    "        return p_class\n",
    "\n",
    "passenger_class_map('2')"
   ]
  },
  {
   "cell_type": "code",
   "execution_count": 7,
   "metadata": {},
   "outputs": [
    {
     "data": {
      "text/html": [
       "<div>\n",
       "<style scoped>\n",
       "    .dataframe tbody tr th:only-of-type {\n",
       "        vertical-align: middle;\n",
       "    }\n",
       "\n",
       "    .dataframe tbody tr th {\n",
       "        vertical-align: top;\n",
       "    }\n",
       "\n",
       "    .dataframe thead th {\n",
       "        text-align: right;\n",
       "    }\n",
       "</style>\n",
       "<table border=\"1\" class=\"dataframe\">\n",
       "  <thead>\n",
       "    <tr style=\"text-align: right;\">\n",
       "      <th></th>\n",
       "      <th>PassengerId</th>\n",
       "      <th>Survived</th>\n",
       "      <th>Pclass</th>\n",
       "      <th>Name</th>\n",
       "      <th>Sex</th>\n",
       "      <th>Age</th>\n",
       "      <th>SibSp</th>\n",
       "      <th>Parch</th>\n",
       "      <th>Ticket</th>\n",
       "      <th>Fare</th>\n",
       "      <th>Cabin</th>\n",
       "      <th>Embarked</th>\n",
       "      <th>Class</th>\n",
       "    </tr>\n",
       "  </thead>\n",
       "  <tbody>\n",
       "    <tr>\n",
       "      <th>0</th>\n",
       "      <td>1</td>\n",
       "      <td>0</td>\n",
       "      <td>3</td>\n",
       "      <td>Braund, Mr. Owen Harris</td>\n",
       "      <td>male</td>\n",
       "      <td>22.0</td>\n",
       "      <td>1</td>\n",
       "      <td>0</td>\n",
       "      <td>A/5 21171</td>\n",
       "      <td>7.2500</td>\n",
       "      <td>NaN</td>\n",
       "      <td>S</td>\n",
       "      <td>Third</td>\n",
       "    </tr>\n",
       "    <tr>\n",
       "      <th>1</th>\n",
       "      <td>2</td>\n",
       "      <td>1</td>\n",
       "      <td>1</td>\n",
       "      <td>Cumings, Mrs. John Bradley (Florence Briggs Th...</td>\n",
       "      <td>female</td>\n",
       "      <td>38.0</td>\n",
       "      <td>1</td>\n",
       "      <td>0</td>\n",
       "      <td>PC 17599</td>\n",
       "      <td>71.2833</td>\n",
       "      <td>C85</td>\n",
       "      <td>C</td>\n",
       "      <td>First</td>\n",
       "    </tr>\n",
       "    <tr>\n",
       "      <th>2</th>\n",
       "      <td>3</td>\n",
       "      <td>1</td>\n",
       "      <td>3</td>\n",
       "      <td>Heikkinen, Miss. Laina</td>\n",
       "      <td>female</td>\n",
       "      <td>26.0</td>\n",
       "      <td>0</td>\n",
       "      <td>0</td>\n",
       "      <td>STON/O2. 3101282</td>\n",
       "      <td>7.9250</td>\n",
       "      <td>NaN</td>\n",
       "      <td>S</td>\n",
       "      <td>Third</td>\n",
       "    </tr>\n",
       "    <tr>\n",
       "      <th>3</th>\n",
       "      <td>4</td>\n",
       "      <td>1</td>\n",
       "      <td>1</td>\n",
       "      <td>Futrelle, Mrs. Jacques Heath (Lily May Peel)</td>\n",
       "      <td>female</td>\n",
       "      <td>35.0</td>\n",
       "      <td>1</td>\n",
       "      <td>0</td>\n",
       "      <td>113803</td>\n",
       "      <td>53.1000</td>\n",
       "      <td>C123</td>\n",
       "      <td>S</td>\n",
       "      <td>First</td>\n",
       "    </tr>\n",
       "    <tr>\n",
       "      <th>4</th>\n",
       "      <td>5</td>\n",
       "      <td>0</td>\n",
       "      <td>3</td>\n",
       "      <td>Allen, Mr. William Henry</td>\n",
       "      <td>male</td>\n",
       "      <td>35.0</td>\n",
       "      <td>0</td>\n",
       "      <td>0</td>\n",
       "      <td>373450</td>\n",
       "      <td>8.0500</td>\n",
       "      <td>NaN</td>\n",
       "      <td>S</td>\n",
       "      <td>Third</td>\n",
       "    </tr>\n",
       "    <tr>\n",
       "      <th>...</th>\n",
       "      <td>...</td>\n",
       "      <td>...</td>\n",
       "      <td>...</td>\n",
       "      <td>...</td>\n",
       "      <td>...</td>\n",
       "      <td>...</td>\n",
       "      <td>...</td>\n",
       "      <td>...</td>\n",
       "      <td>...</td>\n",
       "      <td>...</td>\n",
       "      <td>...</td>\n",
       "      <td>...</td>\n",
       "      <td>...</td>\n",
       "    </tr>\n",
       "    <tr>\n",
       "      <th>886</th>\n",
       "      <td>887</td>\n",
       "      <td>0</td>\n",
       "      <td>2</td>\n",
       "      <td>Montvila, Rev. Juozas</td>\n",
       "      <td>male</td>\n",
       "      <td>27.0</td>\n",
       "      <td>0</td>\n",
       "      <td>0</td>\n",
       "      <td>211536</td>\n",
       "      <td>13.0000</td>\n",
       "      <td>NaN</td>\n",
       "      <td>S</td>\n",
       "      <td>Second</td>\n",
       "    </tr>\n",
       "    <tr>\n",
       "      <th>887</th>\n",
       "      <td>888</td>\n",
       "      <td>1</td>\n",
       "      <td>1</td>\n",
       "      <td>Graham, Miss. Margaret Edith</td>\n",
       "      <td>female</td>\n",
       "      <td>19.0</td>\n",
       "      <td>0</td>\n",
       "      <td>0</td>\n",
       "      <td>112053</td>\n",
       "      <td>30.0000</td>\n",
       "      <td>B42</td>\n",
       "      <td>S</td>\n",
       "      <td>First</td>\n",
       "    </tr>\n",
       "    <tr>\n",
       "      <th>888</th>\n",
       "      <td>889</td>\n",
       "      <td>0</td>\n",
       "      <td>3</td>\n",
       "      <td>Johnston, Miss. Catherine Helen \"Carrie\"</td>\n",
       "      <td>female</td>\n",
       "      <td>NaN</td>\n",
       "      <td>1</td>\n",
       "      <td>2</td>\n",
       "      <td>W./C. 6607</td>\n",
       "      <td>23.4500</td>\n",
       "      <td>NaN</td>\n",
       "      <td>S</td>\n",
       "      <td>Third</td>\n",
       "    </tr>\n",
       "    <tr>\n",
       "      <th>889</th>\n",
       "      <td>890</td>\n",
       "      <td>1</td>\n",
       "      <td>1</td>\n",
       "      <td>Behr, Mr. Karl Howell</td>\n",
       "      <td>male</td>\n",
       "      <td>26.0</td>\n",
       "      <td>0</td>\n",
       "      <td>0</td>\n",
       "      <td>111369</td>\n",
       "      <td>30.0000</td>\n",
       "      <td>C148</td>\n",
       "      <td>C</td>\n",
       "      <td>First</td>\n",
       "    </tr>\n",
       "    <tr>\n",
       "      <th>890</th>\n",
       "      <td>891</td>\n",
       "      <td>0</td>\n",
       "      <td>3</td>\n",
       "      <td>Dooley, Mr. Patrick</td>\n",
       "      <td>male</td>\n",
       "      <td>32.0</td>\n",
       "      <td>0</td>\n",
       "      <td>0</td>\n",
       "      <td>370376</td>\n",
       "      <td>7.7500</td>\n",
       "      <td>NaN</td>\n",
       "      <td>Q</td>\n",
       "      <td>Third</td>\n",
       "    </tr>\n",
       "  </tbody>\n",
       "</table>\n",
       "<p>891 rows × 13 columns</p>\n",
       "</div>"
      ],
      "text/plain": [
       "     PassengerId  Survived  Pclass  \\\n",
       "0              1         0       3   \n",
       "1              2         1       1   \n",
       "2              3         1       3   \n",
       "3              4         1       1   \n",
       "4              5         0       3   \n",
       "..           ...       ...     ...   \n",
       "886          887         0       2   \n",
       "887          888         1       1   \n",
       "888          889         0       3   \n",
       "889          890         1       1   \n",
       "890          891         0       3   \n",
       "\n",
       "                                                  Name     Sex   Age  SibSp  \\\n",
       "0                              Braund, Mr. Owen Harris    male  22.0      1   \n",
       "1    Cumings, Mrs. John Bradley (Florence Briggs Th...  female  38.0      1   \n",
       "2                               Heikkinen, Miss. Laina  female  26.0      0   \n",
       "3         Futrelle, Mrs. Jacques Heath (Lily May Peel)  female  35.0      1   \n",
       "4                             Allen, Mr. William Henry    male  35.0      0   \n",
       "..                                                 ...     ...   ...    ...   \n",
       "886                              Montvila, Rev. Juozas    male  27.0      0   \n",
       "887                       Graham, Miss. Margaret Edith  female  19.0      0   \n",
       "888           Johnston, Miss. Catherine Helen \"Carrie\"  female   NaN      1   \n",
       "889                              Behr, Mr. Karl Howell    male  26.0      0   \n",
       "890                                Dooley, Mr. Patrick    male  32.0      0   \n",
       "\n",
       "     Parch            Ticket     Fare Cabin Embarked   Class  \n",
       "0        0         A/5 21171   7.2500   NaN        S   Third  \n",
       "1        0          PC 17599  71.2833   C85        C   First  \n",
       "2        0  STON/O2. 3101282   7.9250   NaN        S   Third  \n",
       "3        0            113803  53.1000  C123        S   First  \n",
       "4        0            373450   8.0500   NaN        S   Third  \n",
       "..     ...               ...      ...   ...      ...     ...  \n",
       "886      0            211536  13.0000   NaN        S  Second  \n",
       "887      0            112053  30.0000   B42        S   First  \n",
       "888      2        W./C. 6607  23.4500   NaN        S   Third  \n",
       "889      0            111369  30.0000  C148        C   First  \n",
       "890      0            370376   7.7500   NaN        Q   Third  \n",
       "\n",
       "[891 rows x 13 columns]"
      ]
     },
     "execution_count": 7,
     "metadata": {},
     "output_type": "execute_result"
    }
   ],
   "source": [
    "# Add a derived column to map passenger classes\n",
    "df['Class'] = df['Pclass'].apply(passenger_class_map)\n",
    "df"
   ]
  },
  {
   "cell_type": "markdown",
   "metadata": {},
   "source": [
    "##### Questions I'd like to answer\n",
    "* Survival average \n",
    "\n",
    "* Decease average\n",
    "\n",
    "* How is related the passenger class with its survival status\n",
    "\n",
    "* In which cabin type are the majority if survival passengers\n",
    "\n",
    "* Which ages were the passengers with greater/lesser survival\n"
   ]
  },
  {
   "cell_type": "markdown",
   "metadata": {},
   "source": [
    "### Survival and Decease average\n",
    "1 = Survived\n",
    "\n",
    "0 = Deceased"
   ]
  },
  {
   "cell_type": "code",
   "execution_count": 67,
   "metadata": {},
   "outputs": [
    {
     "data": {
      "text/plain": [
       "Survived\n",
       "0    61.616162\n",
       "1    38.383838\n",
       "Name: Survived, dtype: float64"
      ]
     },
     "execution_count": 67,
     "metadata": {},
     "output_type": "execute_result"
    }
   ],
   "source": [
    "survival = df.groupby('Survived')['Survived'].count() / len(df) * 100\n",
    "survival"
   ]
  },
  {
   "cell_type": "code",
   "execution_count": 63,
   "metadata": {},
   "outputs": [],
   "source": [
    "# Labels for the Pie chart\n",
    "labels = ['Survived' if x == 1 else 'Decesed' for x in list(survival.keys())]"
   ]
  },
  {
   "cell_type": "code",
   "execution_count": 66,
   "metadata": {},
   "outputs": [
    {
     "data": {
      "text/plain": [
       "([<matplotlib.patches.Wedge at 0x1442e7e7350>,\n",
       "  <matplotlib.patches.Wedge at 0x1442e8c8710>],\n",
       " [Text(-0.3925747426847413, 1.027562684903461, 'Decesed'),\n",
       "  Text(0.3925746464773772, -1.0275627216589567, 'Survived')],\n",
       " [Text(-0.21413167782804068, 0.5604887372200695, '61.6%'),\n",
       "  Text(0.21413162535129665, -0.5604887572685218, '38.4%')])"
      ]
     },
     "execution_count": 66,
     "metadata": {},
     "output_type": "execute_result"
    },
    {
     "data": {
      "image/png": "[encoded data removed]",
      "text/plain": [
       "<Figure size 640x480 with 1 Axes>"
      ]
     },
     "metadata": {},
     "output_type": "display_data"
    }
   ],
   "source": [
    "fig, ax = plt.subplots()\n",
    "ax.pie(survival, labels=labels, autopct='%1.1f%%')"
   ]
  },
  {
   "cell_type": "markdown",
   "metadata": {},
   "source": [
    "### How is related the passenger class with the survival status"
   ]
  },
  {
   "cell_type": "code",
   "execution_count": 9,
   "metadata": {},
   "outputs": [
    {
     "data": {
      "text/plain": [
       "Pclass\n",
       "1    136\n",
       "2     87\n",
       "3    119\n",
       "Name: Survived, dtype: int64"
      ]
     },
     "execution_count": 9,
     "metadata": {},
     "output_type": "execute_result"
    }
   ],
   "source": [
    "# Pclass is the ticket class with values 1 = 1st, 2 = 2nd, 3 = 3rd\n",
    "deceases_by_class = df.groupby('Pclass')['Survived'].sum()\n",
    "deceases_by_class"
   ]
  },
  {
   "cell_type": "markdown",
   "metadata": {},
   "source": [
    "The class with less deceases is the 2nd, however we need to know the number of passengers \n",
    "in each class to get the proportion"
   ]
  },
  {
   "cell_type": "code",
   "execution_count": 10,
   "metadata": {},
   "outputs": [
    {
     "data": {
      "text/plain": [
       "Pclass\n",
       "1    216\n",
       "2    184\n",
       "3    491\n",
       "Name: Pclass, dtype: int64"
      ]
     },
     "execution_count": 10,
     "metadata": {},
     "output_type": "execute_result"
    }
   ],
   "source": [
    "num_passenger_class = df.groupby('Pclass')['Pclass'].count()\n",
    "num_passenger_class"
   ]
  },
  {
   "cell_type": "markdown",
   "metadata": {},
   "source": [
    "Get the percentage of people who survived in each class"
   ]
  },
  {
   "cell_type": "code",
   "execution_count": 11,
   "metadata": {},
   "outputs": [
    {
     "data": {
      "text/plain": [
       "Pclass\n",
       "1    62.962963\n",
       "2    47.282609\n",
       "3    24.236253\n",
       "dtype: float64"
      ]
     },
     "execution_count": 11,
     "metadata": {},
     "output_type": "execute_result"
    }
   ],
   "source": [
    "# Vectorized operations\n",
    "deceases_by_class * 100 / num_passenger_class\n",
    "# The first class had the majority of survivals, third class had the most deceases."
   ]
  },
  {
   "cell_type": "markdown",
   "metadata": {},
   "source": [
    "### In which cabin type are the majority of deceases\n",
    "\n",
    "There are a lot of cabins formed by a letter and a number, identify if the cabins are related\n",
    "to the passenger class."
   ]
  },
  {
   "cell_type": "code",
   "execution_count": 12,
   "metadata": {},
   "outputs": [
    {
     "name": "stdout",
     "output_type": "stream",
     "text": [
      "# of passengers per cabin type \n",
      "Cabin  Class \n",
      "A      First     15\n",
      "B      First     47\n",
      "C      First     59\n",
      "D      First     29\n",
      "       Second     4\n",
      "E      First     25\n",
      "       Second     4\n",
      "       Third      3\n",
      "F      Second     8\n",
      "       Third      5\n",
      "G      Third      4\n",
      "T      First      1\n",
      "Name: Survived, dtype: int64\n",
      "\n",
      "# of survived passengers per cabin type \n",
      "Cabin  Class \n",
      "A      First      7\n",
      "B      First     35\n",
      "C      First     35\n",
      "D      First     22\n",
      "       Second     3\n",
      "E      First     18\n",
      "       Second     3\n",
      "       Third      3\n",
      "F      Second     7\n",
      "       Third      1\n",
      "G      Third      2\n",
      "T      First      0\n",
      "Name: Survived, dtype: int64\n",
      "\n",
      "# of deceased passengers per cabin type \n",
      "Cabin  Class \n",
      "A      First      8\n",
      "B      First     12\n",
      "C      First     24\n",
      "D      First      7\n",
      "       Second     1\n",
      "E      First      7\n",
      "       Second     1\n",
      "       Third      0\n",
      "F      Second     1\n",
      "       Third      4\n",
      "G      Third      2\n",
      "T      First      1\n",
      "Name: Survived, dtype: int64\n"
     ]
    }
   ],
   "source": [
    "# Group by cabin type and passenger class\n",
    "cabin_types = df.groupby([df['Cabin'].map(lambda x: x[0] if pd.notna(x) else x), 'Class'])\n",
    "# Get the number of survived people\n",
    "passenger_per_cabin_type = cabin_types['Survived'].count()\n",
    "survived_per_cabin_type = cabin_types['Survived'].sum()\n",
    "print(f\"# of passengers per cabin type \\r\\n{passenger_per_cabin_type}\")\n",
    "print(f\"\\r\\n# of survived passengers per cabin type \\r\\n{survived_per_cabin_type}\")\n",
    "print(f\"\\r\\n# of deceased passengers per cabin type \\r\\n{passenger_per_cabin_type - survived_per_cabin_type}\")"
   ]
  },
  {
   "cell_type": "markdown",
   "metadata": {},
   "source": [
    "##### Which ages were the passengers with greater/lesser survival\n",
    "\n",
    "Let's categorize the passengers ages into ranges"
   ]
  },
  {
   "cell_type": "code",
   "execution_count": 13,
   "metadata": {},
   "outputs": [],
   "source": [
    "def categorize_age(age: int) -> str:\n",
    "    try:\n",
    "        i_age = int(age)\n",
    "    except Exception as e:\n",
    "        return np.nan\n",
    "    else:\n",
    "        if i_age in range(0,3):\n",
    "            category = 'Baby'\n",
    "        elif i_age in range(3,5):\n",
    "            category = 'Little kid'\n",
    "        elif i_age in range(5, 13):\n",
    "            category = 'Kid'\n",
    "        elif i_age in range(13, 20):\n",
    "            category = 'Teenager'\n",
    "        elif i_age in range(20, 40):\n",
    "            category = 'Teen adult'\n",
    "        elif i_age in range(40, 60):\n",
    "            category = 'Adult'\n",
    "        elif i_age > 59:\n",
    "            category = 'Elderly'\n",
    "        return category"
   ]
  },
  {
   "cell_type": "code",
   "execution_count": 14,
   "metadata": {},
   "outputs": [],
   "source": [
    "# Create AgeCategory column\n",
    "df['AgeCategory'] = df['Age'].apply(categorize_age)"
   ]
  },
  {
   "cell_type": "code",
   "execution_count": 16,
   "metadata": {},
   "outputs": [
    {
     "data": {
      "text/plain": [
       "AgeCategory\n",
       "Teen adult    150\n",
       "Adult          54\n",
       "Teenager       39\n",
       "Baby           15\n",
       "Kid            13\n",
       "Little kid     12\n",
       "Elderly         7\n",
       "Name: Survived, dtype: int64"
      ]
     },
     "execution_count": 16,
     "metadata": {},
     "output_type": "execute_result"
    }
   ],
   "source": [
    "# Number of survival passengers by age category\n",
    "df.groupby('AgeCategory')['Survived'].sum().sort_values(ascending=False)"
   ]
  }
 ],
 "metadata": {
  "kernelspec": {
   "display_name": ".venv",
   "language": "python",
   "name": "python3"
  },
  "language_info": {
   "codemirror_mode": {
    "name": "ipython",
    "version": 3
   },
   "file_extension": ".py",
   "mimetype": "text/x-python",
   "name": "python",
   "nbconvert_exporter": "python",
   "pygments_lexer": "ipython3",
   "version": "3.11.8"
  },
  "orig_nbformat": 4
 },
 "nbformat": 4,
 "nbformat_minor": 2
}
